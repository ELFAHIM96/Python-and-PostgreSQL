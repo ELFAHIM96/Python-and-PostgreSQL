{
 "cells": [
  {
   "cell_type": "markdown",
   "id": "0b9f5a29",
   "metadata": {},
   "source": [
    "### Importing CSV file into postgres datbase\n",
    "\n",
    "#### Steps\n",
    "\n",
    "- import the CSV file into a pandas df\n",
    "- clean the table  and remove all extra symplos, spaces , capital lettters\n",
    "- write and creaate SQL statement \n",
    "- import the data into the database \n"
   ]
  },
  {
   "cell_type": "code",
   "execution_count": 2,
   "id": "760bf754",
   "metadata": {},
   "outputs": [],
   "source": [
    "# import labraries\n",
    "import os\n",
    "import numpy as np\n",
    "import pandas as pd\n",
    "import psycopg2\n"
   ]
  },
  {
   "cell_type": "code",
   "execution_count": 3,
   "id": "6278cda1",
   "metadata": {},
   "outputs": [
    {
     "name": "stdout",
     "output_type": "stream",
     "text": [
      "Customer Contracts$.csv\n",
      "Postgre2python.py\n",
      "Untitled.ipynb\n",
      "spy2post.py\n",
      "sql\n"
     ]
    }
   ],
   "source": [
    "!ls"
   ]
  },
  {
   "cell_type": "code",
   "execution_count": 5,
   "id": "ef10599a",
   "metadata": {},
   "outputs": [
    {
     "data": {
      "text/html": [
       "<div>\n",
       "<style scoped>\n",
       "    .dataframe tbody tr th:only-of-type {\n",
       "        vertical-align: middle;\n",
       "    }\n",
       "\n",
       "    .dataframe tbody tr th {\n",
       "        vertical-align: top;\n",
       "    }\n",
       "\n",
       "    .dataframe thead th {\n",
       "        text-align: right;\n",
       "    }\n",
       "</style>\n",
       "<table border=\"1\" class=\"dataframe\">\n",
       "  <thead>\n",
       "    <tr style=\"text-align: right;\">\n",
       "      <th></th>\n",
       "      <th>customer_name</th>\n",
       "      <th>start_date</th>\n",
       "      <th>end_date</th>\n",
       "      <th>contract_amount_m</th>\n",
       "      <th>invoice_sent</th>\n",
       "      <th>paid</th>\n",
       "    </tr>\n",
       "  </thead>\n",
       "  <tbody>\n",
       "    <tr>\n",
       "      <th>0</th>\n",
       "      <td>Nike</td>\n",
       "      <td>01-02-2019</td>\n",
       "      <td>12-20-2020</td>\n",
       "      <td>2.98</td>\n",
       "      <td>Yes</td>\n",
       "      <td>Yes</td>\n",
       "    </tr>\n",
       "    <tr>\n",
       "      <th>1</th>\n",
       "      <td>Reebox</td>\n",
       "      <td>06-20-2017</td>\n",
       "      <td>NaN</td>\n",
       "      <td>3.90</td>\n",
       "      <td>No</td>\n",
       "      <td>No</td>\n",
       "    </tr>\n",
       "    <tr>\n",
       "      <th>2</th>\n",
       "      <td>Adidas</td>\n",
       "      <td>12-07-2015</td>\n",
       "      <td>6-20-2018</td>\n",
       "      <td>4.82</td>\n",
       "      <td>Yes</td>\n",
       "      <td>Yes</td>\n",
       "    </tr>\n",
       "    <tr>\n",
       "      <th>3</th>\n",
       "      <td>Google</td>\n",
       "      <td>05-25-2014</td>\n",
       "      <td>03-20-2017</td>\n",
       "      <td>5.74</td>\n",
       "      <td>Yes</td>\n",
       "      <td>No</td>\n",
       "    </tr>\n",
       "    <tr>\n",
       "      <th>4</th>\n",
       "      <td>Amazon</td>\n",
       "      <td>11-10-2012</td>\n",
       "      <td>12-20-2015</td>\n",
       "      <td>6.66</td>\n",
       "      <td>No</td>\n",
       "      <td>Yes</td>\n",
       "    </tr>\n",
       "  </tbody>\n",
       "</table>\n",
       "</div>"
      ],
      "text/plain": [
       "  customer_name  start_date    end_date  contract_amount_m invoice_sent paid\n",
       "0          Nike  01-02-2019  12-20-2020               2.98          Yes  Yes\n",
       "1        Reebox  06-20-2017         NaN               3.90           No   No\n",
       "2        Adidas  12-07-2015   6-20-2018               4.82          Yes  Yes\n",
       "3        Google  05-25-2014  03-20-2017               5.74          Yes   No\n",
       "4        Amazon  11-10-2012  12-20-2015               6.66           No  Yes"
      ]
     },
     "execution_count": 5,
     "metadata": {},
     "output_type": "execute_result"
    }
   ],
   "source": [
    "df = pd.read_csv('Customer Contracts$.csv')\n",
    "df.head(5)\n"
   ]
  },
  {
   "cell_type": "code",
   "execution_count": 8,
   "id": "0631287d",
   "metadata": {},
   "outputs": [
    {
     "data": {
      "text/plain": [
       "'customer_contracts'"
      ]
     },
     "execution_count": 8,
     "metadata": {},
     "output_type": "execute_result"
    }
   ],
   "source": [
    "# clean table names \n",
    "# lower cases letters\n",
    "# remove all white spaces \n",
    "file = 'Customer Contracts$'\n",
    "\n",
    "clean_tbl_name = file.lower().replace(\" \",\"_\").replace(\"?\",\"\").replace(\"-\", \"_\").replace(r\"/\", \"_\").replace(\"\\\\\", \"_\").replace(\"#\", \"\").replace(\"|\", \"\").replace(r\")\", \"\").replace(r\"(\", \"\").replace(\"$\",\"\")\n",
    "\n",
    "clean_tbl_name"
   ]
  },
  {
   "cell_type": "code",
   "execution_count": 9,
   "id": "02d2cb49",
   "metadata": {},
   "outputs": [
    {
     "data": {
      "text/plain": [
       "Index(['customer_name', 'start_date', 'end_date', 'contract_amount_m',\n",
       "       'invoice_sent', 'paid'],\n",
       "      dtype='object')"
      ]
     },
     "execution_count": 9,
     "metadata": {},
     "output_type": "execute_result"
    }
   ],
   "source": [
    "df.columns"
   ]
  },
  {
   "cell_type": "code",
   "execution_count": 11,
   "id": "9ccbba1e",
   "metadata": {},
   "outputs": [],
   "source": [
    "df.columns = [x.lower().replace(\" \",\"_\").replace(\"?\",\"\").replace(\"-\", \"_\").replace(r\"/\", \"_\").replace(\"\\\\\", \"_\").replace(\"#\", \"\").replace(\"|\", \"\").replace(r\")\", \"\").replace(r\"(\", \"\").replace(\"$\",\"\") for x in df.columns]"
   ]
  },
  {
   "cell_type": "code",
   "execution_count": 12,
   "id": "6dd6a541",
   "metadata": {},
   "outputs": [
    {
     "data": {
      "text/plain": [
       "Index(['customer_name', 'start_date', 'end_date', 'contract_amount_m',\n",
       "       'invoice_sent', 'paid'],\n",
       "      dtype='object')"
      ]
     },
     "execution_count": 12,
     "metadata": {},
     "output_type": "execute_result"
    }
   ],
   "source": [
    "df.columns"
   ]
  },
  {
   "cell_type": "code",
   "execution_count": null,
   "id": "65484ff6",
   "metadata": {},
   "outputs": [],
   "source": [
    "create table customer_contracts\n",
    "(\n",
    "    customer_name varchar\n",
    "    start_date    varchar\n",
    "    end_date      varchar\n",
    "    contract_amount_m  float\n",
    "    invoice_sent  varchar\n",
    "    paid          varchar \n",
    ");"
   ]
  },
  {
   "cell_type": "code",
   "execution_count": 13,
   "id": "eef5c2b7",
   "metadata": {},
   "outputs": [
    {
     "data": {
      "text/plain": [
       "customer_name         object\n",
       "start_date            object\n",
       "end_date              object\n",
       "contract_amount_m    float64\n",
       "invoice_sent          object\n",
       "paid                  object\n",
       "dtype: object"
      ]
     },
     "execution_count": 13,
     "metadata": {},
     "output_type": "execute_result"
    }
   ],
   "source": [
    "df.dtypes"
   ]
  },
  {
   "cell_type": "code",
   "execution_count": 14,
   "id": "3ed7ee57",
   "metadata": {},
   "outputs": [],
   "source": [
    "replacement = {\n",
    "    \"object\": \"varchar\",\n",
    "    \"float64\": \"float\",\n",
    "    \"int64\": \"int\",\n",
    "    \"datetime64\": \"timestamp\",\n",
    "    \"timedelta64[ns]\": \"varchar\"\n",
    "}"
   ]
  },
  {
   "cell_type": "code",
   "execution_count": 15,
   "id": "0327f69e",
   "metadata": {},
   "outputs": [
    {
     "data": {
      "text/plain": [
       "{'object': 'varchar',\n",
       " 'float64': 'float',\n",
       " 'int64': 'int',\n",
       " 'datetime64': 'timestamp',\n",
       " 'timedelta64[ns]': 'varchar'}"
      ]
     },
     "execution_count": 15,
     "metadata": {},
     "output_type": "execute_result"
    }
   ],
   "source": [
    "replacement"
   ]
  },
  {
   "cell_type": "code",
   "execution_count": 19,
   "id": "6c41841b",
   "metadata": {},
   "outputs": [],
   "source": [
    "col_str = \", \".join(\"{} {}\".format(a, d) for (a, d) in zip(df.columns, df.dtypes.replace(replacement)))"
   ]
  },
  {
   "cell_type": "code",
   "execution_count": 20,
   "id": "11a0da75",
   "metadata": {},
   "outputs": [
    {
     "data": {
      "text/plain": [
       "'customer_name varchar, start_date varchar, end_date varchar, contract_amount_m float, invoice_sent varchar, paid varchar'"
      ]
     },
     "execution_count": 20,
     "metadata": {},
     "output_type": "execute_result"
    }
   ],
   "source": [
    "col_str"
   ]
  },
  {
   "cell_type": "code",
   "execution_count": 21,
   "id": "e8459648",
   "metadata": {},
   "outputs": [],
   "source": [
    "#db settings\n",
    "#host = 'add'\n",
    "#dbname = 'add db name'\n",
    "#user = 'add db username'\n",
    "#password = 'add db pwd'\n",
    "hostname = 'localhost'\n",
    "database = 'demo'\n",
    "username = 'postgres'\n",
    "pwd = ''\n",
    "\n"
   ]
  },
  {
   "cell_type": "code",
   "execution_count": null,
   "id": "543666e3",
   "metadata": {},
   "outputs": [],
   "source": []
  },
  {
   "cell_type": "code",
   "execution_count": 22,
   "id": "60ef5174",
   "metadata": {},
   "outputs": [],
   "source": [
    "conn = psycopg2.connect(host= hostname,\n",
    "            port = port_id,\n",
    "            dbname = database,\n",
    "            user = username,\n",
    "            password = pwd) "
   ]
  },
  {
   "cell_type": "code",
   "execution_count": 26,
   "id": "0868cc37",
   "metadata": {},
   "outputs": [],
   "source": [
    "cur = conn.cursor()\n",
    "cur.execute('DROP TABLE IF EXISTS customer_contracts')"
   ]
  },
  {
   "cell_type": "markdown",
   "id": "23efb984",
   "metadata": {},
   "source": [
    "### Create a table in postgreSQL"
   ]
  },
  {
   "cell_type": "code",
   "execution_count": 27,
   "id": "cb2a94fd",
   "metadata": {},
   "outputs": [],
   "source": [
    "\n",
    "create_script = ''' CREATE TABLE customer_contracts (\n",
    "                        customer_name varchar, \n",
    "                        start_date varchar, \n",
    "                        end_date varchar, \n",
    "                        contract_amount_m float, \n",
    "                        invoice_sent varchar, \n",
    "                        paid varchar\n",
    "                        ) '''\n",
    "\n",
    "cur.execute(create_script)"
   ]
  },
  {
   "cell_type": "code",
   "execution_count": 29,
   "id": "ca2e3346",
   "metadata": {},
   "outputs": [],
   "source": [
    "# save df  to csv file\n",
    "df.to_csv('customer_contracts.csv', header = df.columns, index=False, encoding=\"utf-8\")"
   ]
  },
  {
   "cell_type": "code",
   "execution_count": 30,
   "id": "c535c1da",
   "metadata": {},
   "outputs": [
    {
     "name": "stdout",
     "output_type": "stream",
     "text": [
      "file opened!\n"
     ]
    }
   ],
   "source": [
    "#open the csv file save if as objects and uploads to db\n",
    "my_file = open(\"customer_contracts.csv\")\n",
    "print(\"file opened!\")"
   ]
  },
  {
   "cell_type": "markdown",
   "id": "571d4064",
   "metadata": {},
   "source": [
    "### Notes\n",
    "- Use COMMIT to successfully terminate a transaction."
   ]
  },
  {
   "cell_type": "code",
   "execution_count": 40,
   "id": "b07d8d81",
   "metadata": {},
   "outputs": [],
   "source": [
    "conn.commit()\n",
    "\n",
    "SQL_STATEMENT = \"\"\"\n",
    "COPY customer_contracts FROM STDIN WITH\n",
    "    CSV\n",
    "    HEADER\n",
    "    DELIMITER AS ','\n",
    "\"\"\"\n",
    "cur.copy_expert(sql=SQL_STATEMENT, file=my_file)\n"
   ]
  },
  {
   "cell_type": "markdown",
   "id": "0c39eea9",
   "metadata": {},
   "source": []
  }
 ],
 "metadata": {
  "kernelspec": {
   "display_name": "Python 3.9.5 64-bit",
   "language": "python",
   "name": "python3"
  },
  "language_info": {
   "codemirror_mode": {
    "name": "ipython",
    "version": 3
   },
   "file_extension": ".py",
   "mimetype": "text/x-python",
   "name": "python",
   "nbconvert_exporter": "python",
   "pygments_lexer": "ipython3",
   "version": "3.9.5"
  },
  "vscode": {
   "interpreter": {
    "hash": "8f8cf99212f81ad0c4765861267244807ee1c18364846cdce387b28994a977ba"
   }
  }
 },
 "nbformat": 4,
 "nbformat_minor": 5
}
